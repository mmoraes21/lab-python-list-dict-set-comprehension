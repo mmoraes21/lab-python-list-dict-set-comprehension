{
 "cells": [
  {
   "cell_type": "markdown",
   "id": "25d7736c-ba17-4aff-b6bb-66eba20fbf4e",
   "metadata": {},
   "source": [
    "# Lab | List, Dict and Set Comprehension"
   ]
  },
  {
   "cell_type": "markdown",
   "id": "7dd3cbde-675a-4b81-92c3-f728846dbe06",
   "metadata": {},
   "source": [
    "## Exercise: Managing Customer Orders Optimized with Comprehension"
   ]
  },
  {
   "cell_type": "markdown",
   "id": "5d500160-2fb7-4777-b5e4-09d45ebaf328",
   "metadata": {},
   "source": [
    "In the previous exercise, you developed a program to manage customer orders and inventory. Now, let's take it a step further and incorporate comprehension into your code.\n",
    "\n",
    "Follow the steps below to complete the exercise:\n",
    "\n",
    "1. Review your code from the previous exercise and identify areas where you can apply comprehension to simplify and streamline your code. \n",
    "\n",
    "    - *Hint: Apply it to initialize inventory, updating the inventory and printing the updated inventory.*\n",
    "    \n",
    "    - For example, in initializing the inventory, we could have:\n",
    "    \n",
    "        ```python\n",
    "        def initialize_inventory(products):\n",
    "            inventory = {product: int(input(f\"Enter the quantity of {product}s available: \")) for product in products}\n",
    "            return inventory\n",
    "\n",
    "        ```\n",
    "<br>\n",
    "    \n",
    "    \n",
    "2. Modify the function get_customer_orders so it prompts the user to enter the number of customer orders and gathers the product names using a loop and user input. Use comprehension.\n",
    "\n",
    "3. Add a new function to calculate the total price of the customer order. For each product in customer_orders, prompt the user to enter the price of that product. Use comprehension to calculate the total price. Note: assume that the user can only have 1 unit of each product.\n",
    "\n",
    "4. Modify the update_inventory function to remove the product from the inventory if its quantity becomes zero after fulfilling the customer orders. Use comprehension to filter out the products with a quantity of zero from the inventory.\n",
    "\n",
    "5. Print the total price of the customer order.\n",
    "\n",
    "Your code should produce output similar to the following:\n",
    "\n",
    "```python\n",
    "Enter the quantity of t-shirts available:  5\n",
    "Enter the quantity of mugs available:  4\n",
    "Enter the quantity of hats available:  3\n",
    "Enter the quantity of books available:  2\n",
    "Enter the quantity of keychains available:  1\n",
    "Enter the number of customer orders:  2\n",
    "Enter the name of a product that a customer wants to order:  hat\n",
    "Enter the name of a product that a customer wants to order:  keychain\n",
    "\n",
    "Order Statistics:\n",
    "Total Products Ordered: 2\n",
    "Percentage of Unique Products Ordered: 40.0\n",
    "\n",
    "Updated Inventory:\n",
    "t-shirt: 5\n",
    "mug: 4\n",
    "hat: 2\n",
    "book: 2\n",
    "Enter the price of keychain:  5\n",
    "Enter the price of hat:  10\n",
    "Total Price: 15.0\n",
    "\n",
    "```\n"
   ]
  },
  {
   "cell_type": "markdown",
   "id": "58434cea",
   "metadata": {},
   "source": [
    "def update_inventory(customer_orders, inventory):\n",
    "    for product in customer_orders:\n",
    "        if product in inventory:\n",
    "            amount = int(input(f\"amount of {product}: \"))\n",
    "            inventory[product] -= amount"
   ]
  },
  {
   "cell_type": "markdown",
   "id": "8d6e55e6",
   "metadata": {},
   "source": [
    "def update_inventory(customer_orders, inventory):\n",
    "    updated_inventory = {product: inventory[product] - int(input(f\"amount of {product}: \")) for product in customer_orders if product in inventory}\n",
    "    inventory.update(updated_inventory)"
   ]
  },
  {
   "cell_type": "code",
   "execution_count": 34,
   "id": "34702987",
   "metadata": {},
   "outputs": [],
   "source": [
    "products = [\"t-shirt\", \"mug\", \"hat\", \"book\", \"keychain\"]"
   ]
  },
  {
   "cell_type": "code",
   "execution_count": 35,
   "id": "0b6cb77e",
   "metadata": {},
   "outputs": [],
   "source": [
    "def initialize_inventory(products):\n",
    "            inventory = {product: int(input(f\"amount of {product}\")) for product in products}\n",
    "            return inventory"
   ]
  },
  {
   "cell_type": "code",
   "execution_count": 36,
   "id": "883589ce",
   "metadata": {},
   "outputs": [
    {
     "name": "stdout",
     "output_type": "stream",
     "text": [
      "Enter the quantity of t-shirts available:  10\n",
      "Enter the quantity of mugs available:  10\n",
      "Enter the quantity of hats available:  10\n",
      "Enter the quantity of books available:  10\n",
      "Enter the quantity of keychains available:  10\n"
     ]
    }
   ],
   "source": [
    "inventory = initialize_inventory(products)\n",
    "for product,amount in inventory.items():\n",
    "    print(f\"Enter the quantity of {product}s available:  {amount}\")"
   ]
  },
  {
   "cell_type": "code",
   "execution_count": 38,
   "id": "551984ed",
   "metadata": {},
   "outputs": [],
   "source": [
    "def get_customer_orders():\n",
    "    customer_orders = set()\n",
    "    while True:\n",
    "        amount = int(input(\"number of items\"))\n",
    "        a = 0\n",
    "        while(amount != a):\n",
    "            product = input(\"type product name \")\n",
    "            customer_orders.add(product)\n",
    "            a += 1\n",
    "        break\n",
    "    return customer_orders"
   ]
  },
  {
   "cell_type": "code",
   "execution_count": 39,
   "id": "0ebea3b1",
   "metadata": {},
   "outputs": [],
   "source": [
    "customer_orders = get_customer_orders()"
   ]
  },
  {
   "cell_type": "code",
   "execution_count": 40,
   "id": "2a5693e2",
   "metadata": {},
   "outputs": [
    {
     "name": "stdout",
     "output_type": "stream",
     "text": [
      "{'hat', 'mug'}\n"
     ]
    }
   ],
   "source": [
    "print(customer_orders)"
   ]
  },
  {
   "cell_type": "code",
   "execution_count": 41,
   "id": "e5d510a4",
   "metadata": {},
   "outputs": [],
   "source": [
    "def update_inventory(customer_orders, inventory):\n",
    "    updated_inventory = {product: inventory[product] - 1 for product in customer_orders if product in inventory}\n",
    "    inventory.update(updated_inventory)"
   ]
  },
  {
   "cell_type": "code",
   "execution_count": 42,
   "id": "47e8a656",
   "metadata": {},
   "outputs": [],
   "source": [
    "update_inventory(customer_orders, inventory)"
   ]
  },
  {
   "cell_type": "code",
   "execution_count": 43,
   "id": "e5f7de0b",
   "metadata": {},
   "outputs": [
    {
     "name": "stdout",
     "output_type": "stream",
     "text": [
      "{'t-shirt': 10, 'mug': 9, 'hat': 9, 'book': 10, 'keychain': 10}\n"
     ]
    }
   ],
   "source": [
    "print(inventory)"
   ]
  },
  {
   "cell_type": "code",
   "execution_count": 44,
   "id": "575e42e1",
   "metadata": {},
   "outputs": [],
   "source": [
    "COAmount = len(customer_orders)\n",
    "Percinvent = (len(customer_orders)/sum(inventory.values()))*100\n",
    "\n",
    "def calculate_order_statistics(customer_orders, products):\n",
    "    print(\"Order Statistics:\")\n",
    "    print(\"Total Products Ordered: \", COAmount) \n",
    "    print(\"Percentage of Products Ordered: \", int(Percinvent),\"%\") "
   ]
  },
  {
   "cell_type": "code",
   "execution_count": 45,
   "id": "166a733c",
   "metadata": {},
   "outputs": [
    {
     "name": "stdout",
     "output_type": "stream",
     "text": [
      "Order Statistics:\n",
      "Total Products Ordered:  2\n",
      "Percentage of Products Ordered:  4 %\n"
     ]
    }
   ],
   "source": [
    "calculate_order_statistics(customer_orders, products)"
   ]
  },
  {
   "cell_type": "code",
   "execution_count": 46,
   "id": "5de5492e",
   "metadata": {},
   "outputs": [],
   "source": [
    "def total_price(customer_orders):\n",
    "    tot_price = sum(float(input(f\"Enter the price of {product}: \")) for product in customer_orders)\n",
    "    return tot_price"
   ]
  },
  {
   "cell_type": "code",
   "execution_count": 47,
   "id": "886871d4",
   "metadata": {},
   "outputs": [
    {
     "name": "stdout",
     "output_type": "stream",
     "text": [
      "Updated inventory\n",
      "t-shirt:  10\n",
      "mug:  9\n",
      "hat:  9\n",
      "book:  10\n",
      "keychain:  10\n",
      "Total price: 3.0\n"
     ]
    }
   ],
   "source": [
    "tot_price = total_price(customer_orders)\n",
    "print(\"Updated inventory\")\n",
    "for product,price in inventory.items():\n",
    "    print(f\"{product}:  {price}\")\n",
    "print(f\"Total price: {tot_price}\")"
   ]
  }
 ],
 "metadata": {
  "kernelspec": {
   "display_name": "Python 3 (ipykernel)",
   "language": "python",
   "name": "python3"
  },
  "language_info": {
   "codemirror_mode": {
    "name": "ipython",
    "version": 3
   },
   "file_extension": ".py",
   "mimetype": "text/x-python",
   "name": "python",
   "nbconvert_exporter": "python",
   "pygments_lexer": "ipython3",
   "version": "3.11.4"
  }
 },
 "nbformat": 4,
 "nbformat_minor": 5
}
